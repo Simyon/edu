{
 "cells": [
  {
   "cell_type": "markdown",
   "id": "eb4c19f6",
   "metadata": {},
   "source": [
    "# Цель работы"
   ]
  },
  {
   "cell_type": "markdown",
   "id": "3d505d7a",
   "metadata": {},
   "source": [
    "Исследование свойств персептрона Розенблатта и его применение для решения задачи распознавания образов."
   ]
  },
  {
   "cell_type": "markdown",
   "id": "b1e4408b",
   "metadata": {},
   "source": [
    "# Основные этапы работы"
   ]
  },
  {
   "cell_type": "markdown",
   "id": "a14281b7",
   "metadata": {},
   "source": [
    "1. Для первой обучающей выборки построить и обучить сеть, относящую точки правильно к двум классам. Отобразить дискриминантную линию.\n",
    "2. Изменить для первой выборки обучающее множество, чтобы классы стали линейно неразделимыми. Проверить возможности обучения по правилу Розенблатта.\n",
    "3. Построить и обучить сеть для второй обучающей выборки, относящую точки к четырём классам. Отобразить дискриминантную линию."
   ]
  },
  {
   "cell_type": "markdown",
   "id": "9bf4cbe9",
   "metadata": {},
   "source": [
    "# Код"
   ]
  },
  {
   "cell_type": "code",
   "execution_count": 89,
   "id": "1fc5a8a2",
   "metadata": {},
   "outputs": [],
   "source": [
    "import numpy as np\n",
    "import random\n",
    "import os\n",
    "import matplotlib.pyplot as plt\n",
    "import pandas as pd"
   ]
  },
  {
   "cell_type": "code",
   "execution_count": 90,
   "id": "bf275aa3",
   "metadata": {},
   "outputs": [],
   "source": [
    "class Perceptron:\n",
    "    def __init__(self, epochs=25, lr=0.1, flag=True):\n",
    "        self.epochs = epochs\n",
    "        self.lr = lr\n",
    "        self.weights = []\n",
    "        self.bias = 0\n",
    "        self.errors = []\n",
    "        \n",
    "    def Train(self, sequences, labels, flag=True):\n",
    "        random.seed(7)\n",
    "        if flag:\n",
    "            self.weights = np.random.sample((2, 2))\n",
    "            self.bias = np.random.sample(2)\n",
    "        else:\n",
    "            self.bias = random.random()\n",
    "            self.weights = np.random.sample(2)\n",
    "            \n",
    "        iteration = 0\n",
    "        i = 0\n",
    "        while i < sequences.shape[0]:\n",
    "            if iteration == self.epochs:\n",
    "                break\n",
    "            predictedLabel = self.Predict(sequences[i], self.weights, self.bias, flag)\n",
    "            error = labels[i] - predictedLabel\n",
    "            self.errors.append(abs(error))\n",
    "            if (np.linalg.norm(error) != 0):\n",
    "                print('iter: {} weights: {} bias: {}\\n'.format(iteration, self.weights, self.bias))\n",
    "                if flag:\n",
    "                    self.weights += self.lr * sequences[i].reshape(-1, 1).dot(error.reshape(1, -1))\n",
    "                else:\n",
    "                    self.weights += self.lr *  sequences[i] * error\n",
    "                self.bias += self.lr * error\n",
    "                i = -1\n",
    "            i += 1\n",
    "            iteration += 1\n",
    "        return self.weights, self.bias\n",
    "    \n",
    "    def MAE(self):\n",
    "        return sum(self.errors) / len(self.errors)\n",
    "    \n",
    "    def F(self, x, w, b):\n",
    "        return np.dot(x, w) + b\n",
    "         \n",
    "        \n",
    "    def Predict(self, seq, weights, bias, flag=True):\n",
    "        if (flag):\n",
    "            return np.heaviside(self.F(seq, weights, bias), 1)\n",
    "        return 1 if self.F(seq, weights, bias) >= 0 else 0\n"
   ]
  },
  {
   "cell_type": "code",
   "execution_count": 91,
   "id": "84e0b767",
   "metadata": {},
   "outputs": [],
   "source": [
    "def DividingLine(x, w0, w1, b):\n",
    "    return (-w0 * x - b) / w1"
   ]
  },
  {
   "cell_type": "code",
   "execution_count": 92,
   "id": "b752f9c1",
   "metadata": {},
   "outputs": [],
   "source": [
    "colors = ['r', 'g']\n",
    "colors2 = [['r', 'g'], ['b', 'y']]\n",
    "\n",
    "def PlotFirst(df):\n",
    "    plt.grid(True)\n",
    "    plt.plot(df[df['y'] == 0]['x1'], df[df['y'] == 0]['x2'], 'o', c=colors[0])\n",
    "    plt.plot(df[df['y'] == 1]['x1'], df[df['y'] == 1]['x2'], 'o', c=colors[1])\n",
    "    \n",
    "def PlotSecond(df):\n",
    "    plt.grid(True)\n",
    "    plt.plot(df[(df['y1'] == 0) & (df['y2'] == 0)]['x1'], df[(df['y1'] == 0) & (df['y2'] == 0)]['x2'], 'o', c=colors2[0][0])\n",
    "    plt.plot(df[(df['y1'] == 1) & (df['y2'] == 1)]['x1'], df[(df['y1'] == 1) & (df['y2'] == 1)]['x2'], 'o', c=colors2[1][1])\n",
    "    plt.plot(df[(df['y1'] == 0) & (df['y2'] == 1)]['x1'], df[(df['y1'] == 0) & (df['y2'] == 1)]['x2'], 'o', c=colors2[0][1])\n",
    "    plt.plot(df[(df['y1'] == 1) & (df['y2'] == 0)]['x1'], df[(df['y1'] == 1) & (df['y2'] == 0)]['x2'], 'o', c=colors2[1][0])"
   ]
  },
  {
   "cell_type": "markdown",
   "id": "ed78d310",
   "metadata": {},
   "source": [
    "### Первая обучающая выборка"
   ]
  },
  {
   "cell_type": "code",
   "execution_count": 93,
   "id": "89741331",
   "metadata": {},
   "outputs": [],
   "source": [
    "sequences1 = np.array([[1.4, 1.3, 1.4, 2.2, 4.9, -4.0], [-0.3, 0.4, 0.4, 0.2, -2.9, -4]], dtype=np.float32)\n",
    "labels1 = np.array([1, 1, 1, 1, 0, 0])\n",
    "\n",
    "ds = np.insert(sequences1, 2, labels1, axis=0)\n",
    "df = pd.DataFrame(ds.T, columns=['x1', 'x2', 'y'])"
   ]
  },
  {
   "cell_type": "code",
   "execution_count": 94,
   "id": "dc785bf1",
   "metadata": {},
   "outputs": [
    {
     "data": {
      "text/html": [
       "<div>\n",
       "<style scoped>\n",
       "    .dataframe tbody tr th:only-of-type {\n",
       "        vertical-align: middle;\n",
       "    }\n",
       "\n",
       "    .dataframe tbody tr th {\n",
       "        vertical-align: top;\n",
       "    }\n",
       "\n",
       "    .dataframe thead th {\n",
       "        text-align: right;\n",
       "    }\n",
       "</style>\n",
       "<table border=\"1\" class=\"dataframe\">\n",
       "  <thead>\n",
       "    <tr style=\"text-align: right;\">\n",
       "      <th></th>\n",
       "      <th>x1</th>\n",
       "      <th>x2</th>\n",
       "      <th>y</th>\n",
       "    </tr>\n",
       "  </thead>\n",
       "  <tbody>\n",
       "    <tr>\n",
       "      <th>0</th>\n",
       "      <td>1.4</td>\n",
       "      <td>-0.3</td>\n",
       "      <td>1.0</td>\n",
       "    </tr>\n",
       "    <tr>\n",
       "      <th>1</th>\n",
       "      <td>1.3</td>\n",
       "      <td>0.4</td>\n",
       "      <td>1.0</td>\n",
       "    </tr>\n",
       "    <tr>\n",
       "      <th>2</th>\n",
       "      <td>1.4</td>\n",
       "      <td>0.4</td>\n",
       "      <td>1.0</td>\n",
       "    </tr>\n",
       "    <tr>\n",
       "      <th>3</th>\n",
       "      <td>2.2</td>\n",
       "      <td>0.2</td>\n",
       "      <td>1.0</td>\n",
       "    </tr>\n",
       "    <tr>\n",
       "      <th>4</th>\n",
       "      <td>4.9</td>\n",
       "      <td>-2.9</td>\n",
       "      <td>0.0</td>\n",
       "    </tr>\n",
       "    <tr>\n",
       "      <th>5</th>\n",
       "      <td>-4.0</td>\n",
       "      <td>-4.0</td>\n",
       "      <td>0.0</td>\n",
       "    </tr>\n",
       "  </tbody>\n",
       "</table>\n",
       "</div>"
      ],
      "text/plain": [
       "    x1   x2    y\n",
       "0  1.4 -0.3  1.0\n",
       "1  1.3  0.4  1.0\n",
       "2  1.4  0.4  1.0\n",
       "3  2.2  0.2  1.0\n",
       "4  4.9 -2.9  0.0\n",
       "5 -4.0 -4.0  0.0"
      ]
     },
     "execution_count": 94,
     "metadata": {},
     "output_type": "execute_result"
    }
   ],
   "source": [
    "df"
   ]
  },
  {
   "cell_type": "code",
   "execution_count": 95,
   "id": "c8963cf4",
   "metadata": {},
   "outputs": [
    {
     "data": {
      "image/png": "[encoded data removed]",
      "text/plain": [
       "<Figure size 432x288 with 1 Axes>"
      ]
     },
     "metadata": {
      "needs_background": "light"
     },
     "output_type": "display_data"
    }
   ],
   "source": [
    "PlotFirst(df)"
   ]
  },
  {
   "cell_type": "code",
   "execution_count": 96,
   "id": "dc564800",
   "metadata": {},
   "outputs": [],
   "source": [
    "epochs = 50\n",
    "lr = 0.1"
   ]
  },
  {
   "cell_type": "markdown",
   "id": "f415307f",
   "metadata": {},
   "source": [
    "Случайным образом задам 3 точки."
   ]
  },
  {
   "cell_type": "code",
   "execution_count": 97,
   "id": "384095c6",
   "metadata": {},
   "outputs": [
    {
     "data": {
      "text/plain": [
       "array([[-2.78006829,  3.70732306],\n",
       "       [-2.93280845,  4.18610908],\n",
       "       [-0.11588811,  1.11743863]])"
      ]
     },
     "execution_count": 97,
     "metadata": {},
     "output_type": "execute_result"
    }
   ],
   "source": [
    "np.random.seed(5)\n",
    "randSeqs1 = (np.random.uniform(-5, 5, (3, 2)))\n",
    "randSeqs1"
   ]
  },
  {
   "cell_type": "code",
   "execution_count": 98,
   "id": "253f90f9",
   "metadata": {},
   "outputs": [
    {
     "data": {
      "text/plain": [
       "array([1, 0, 1])"
      ]
     },
     "execution_count": 98,
     "metadata": {},
     "output_type": "execute_result"
    }
   ],
   "source": [
    "np.random.seed(5)\n",
    "randLabels1 = np.random.randint(0, 2, 3)\n",
    "randLabels1"
   ]
  },
  {
   "cell_type": "markdown",
   "id": "e034ab82",
   "metadata": {},
   "source": [
    "Обучим нейросеть на первой обучающей выборке"
   ]
  },
  {
   "cell_type": "code",
   "execution_count": 99,
   "id": "f53c5017",
   "metadata": {},
   "outputs": [
    {
     "name": "stdout",
     "output_type": "stream",
     "text": [
      "iter: 4 weights: [0.83132783 0.3637369 ] bias: 0.32383276483316237\n",
      "\n",
      "iter: 9 weights: [0.34132783 0.65373692] bias: 0.22383276483316236\n",
      "\n",
      "iter: 10 weights: [-0.14867218  0.94373694] bias: 0.12383276483316236\n",
      "\n",
      "iter: 11 weights: [-0.00867218  0.91373694] bias: 0.22383276483316236\n",
      "\n",
      "weights: [0.13132782 0.88373694], bias: 0.32383276483316237\n"
     ]
    }
   ],
   "source": [
    "model = Perceptron(epochs, lr)\n",
    "weights, bias = model.Train(sequences1.T, labels1, False)\n",
    "print('weights: {}, bias: {}'.format(weights, bias))"
   ]
  },
  {
   "cell_type": "code",
   "execution_count": 100,
   "id": "a156bb8f",
   "metadata": {},
   "outputs": [
    {
     "data": {
      "text/plain": [
       "0.2222222222222222"
      ]
     },
     "execution_count": 100,
     "metadata": {},
     "output_type": "execute_result"
    }
   ],
   "source": [
    "model.MAE()"
   ]
  },
  {
   "cell_type": "markdown",
   "id": "a553a436",
   "metadata": {},
   "source": [
    "Предскажем классы на случайно заданной выборке"
   ]
  },
  {
   "cell_type": "code",
   "execution_count": 101,
   "id": "dcb471f4",
   "metadata": {},
   "outputs": [
    {
     "data": {
      "text/plain": [
       "[1, 1, 1]"
      ]
     },
     "execution_count": 101,
     "metadata": {},
     "output_type": "execute_result"
    }
   ],
   "source": [
    "pred = [model.Predict(line, weights, bias, False) for line in randSeqs1]\n",
    "pred"
   ]
  },
  {
   "cell_type": "markdown",
   "id": "8242f533",
   "metadata": {},
   "source": [
    "\n",
    "\n",
    "Отобразим первую обучающую выборку, случайно заданную выборку (треугольнички) и дискриминантную линию.\n"
   ]
  },
  {
   "cell_type": "code",
   "execution_count": 102,
   "id": "004a5997",
   "metadata": {},
   "outputs": [
    {
     "data": {
      "image/png": "[encoded data removed]",
      "text/plain": [
       "<Figure size 432x288 with 1 Axes>"
      ]
     },
     "metadata": {
      "needs_background": "light"
     },
     "output_type": "display_data"
    }
   ],
   "source": [
    "PlotFirst(df)\n",
    "area = np.linspace(-5, 5, 10)\n",
    "line = DividingLine(area, weights[0], weights[1], bias)\n",
    "plt.plot(area, line, color='black')\n",
    "\n",
    "for x, y, color in zip(randSeqs1[:, 0], randSeqs1[:, 1], pred):\n",
    "    plt.plot(x, y, \"^\", c=colors[color])\n"
   ]
  },
  {
   "cell_type": "markdown",
   "id": "11fb0563",
   "metadata": {},
   "source": [
    "### Линейная неразделимость"
   ]
  },
  {
   "cell_type": "markdown",
   "id": "24bfd10c",
   "metadata": {},
   "source": [
    "Изменим первую обучающую выборку так, чтобы она стала линейно неразделимой.\n"
   ]
  },
  {
   "cell_type": "code",
   "execution_count": 103,
   "id": "0f6acc74",
   "metadata": {},
   "outputs": [],
   "source": [
    "sequences_ = np.array([[1.4, 1.3, 1.4, 2.2, 4.9, -4.0], [-0.3, 0.4, 0.4, 0.2, -2.9, -4]], dtype=np.float32)\n",
    "labels_ = np.array([1, 0, 1, 0, 1, 0])\n",
    "\n",
    "\n",
    "ds_ = np.insert(sequences_, 2, labels_, axis=0)\n",
    "df_ = pd.DataFrame(ds_.T, columns=['x1', 'x2', 'y'])"
   ]
  },
  {
   "cell_type": "code",
   "execution_count": 104,
   "id": "4cdeb5d3",
   "metadata": {
    "scrolled": true
   },
   "outputs": [
    {
     "data": {
      "text/html": [
       "<div>\n",
       "<style scoped>\n",
       "    .dataframe tbody tr th:only-of-type {\n",
       "        vertical-align: middle;\n",
       "    }\n",
       "\n",
       "    .dataframe tbody tr th {\n",
       "        vertical-align: top;\n",
       "    }\n",
       "\n",
       "    .dataframe thead th {\n",
       "        text-align: right;\n",
       "    }\n",
       "</style>\n",
       "<table border=\"1\" class=\"dataframe\">\n",
       "  <thead>\n",
       "    <tr style=\"text-align: right;\">\n",
       "      <th></th>\n",
       "      <th>x1</th>\n",
       "      <th>x2</th>\n",
       "      <th>y</th>\n",
       "    </tr>\n",
       "  </thead>\n",
       "  <tbody>\n",
       "    <tr>\n",
       "      <th>0</th>\n",
       "      <td>1.4</td>\n",
       "      <td>-0.3</td>\n",
       "      <td>1.0</td>\n",
       "    </tr>\n",
       "    <tr>\n",
       "      <th>1</th>\n",
       "      <td>1.3</td>\n",
       "      <td>0.4</td>\n",
       "      <td>0.0</td>\n",
       "    </tr>\n",
       "    <tr>\n",
       "      <th>2</th>\n",
       "      <td>1.4</td>\n",
       "      <td>0.4</td>\n",
       "      <td>1.0</td>\n",
       "    </tr>\n",
       "    <tr>\n",
       "      <th>3</th>\n",
       "      <td>2.2</td>\n",
       "      <td>0.2</td>\n",
       "      <td>0.0</td>\n",
       "    </tr>\n",
       "    <tr>\n",
       "      <th>4</th>\n",
       "      <td>4.9</td>\n",
       "      <td>-2.9</td>\n",
       "      <td>1.0</td>\n",
       "    </tr>\n",
       "    <tr>\n",
       "      <th>5</th>\n",
       "      <td>-4.0</td>\n",
       "      <td>-4.0</td>\n",
       "      <td>0.0</td>\n",
       "    </tr>\n",
       "  </tbody>\n",
       "</table>\n",
       "</div>"
      ],
      "text/plain": [
       "    x1   x2    y\n",
       "0  1.4 -0.3  1.0\n",
       "1  1.3  0.4  0.0\n",
       "2  1.4  0.4  1.0\n",
       "3  2.2  0.2  0.0\n",
       "4  4.9 -2.9  1.0\n",
       "5 -4.0 -4.0  0.0"
      ]
     },
     "execution_count": 104,
     "metadata": {},
     "output_type": "execute_result"
    }
   ],
   "source": [
    "df_"
   ]
  },
  {
   "cell_type": "code",
   "execution_count": 120,
   "id": "be0582ba",
   "metadata": {},
   "outputs": [
    {
     "name": "stdout",
     "output_type": "stream",
     "text": [
      "iter: 1 weights: [0.37751697 0.81646128] bias: 0.32383276483316237\n",
      "\n",
      "iter: 3 weights: [0.24751698 0.77646128] bias: 0.22383276483316236\n",
      "\n",
      "iter: 5 weights: [0.11751698 0.73646128] bias: 0.12383276483316236\n",
      "\n",
      "iter: 6 weights: [-0.01248301  0.69646127] bias: 0.02383276483316235\n",
      "\n",
      "iter: 8 weights: [0.12751699 0.66646127] bias: 0.12383276483316236\n",
      "\n",
      "iter: 9 weights: [-0.00248301  0.62646127] bias: 0.02383276483316235\n",
      "\n",
      "iter: 11 weights: [0.13751699 0.59646127] bias: 0.12383276483316236\n",
      "\n",
      "iter: 12 weights: [0.007517   0.55646127] bias: 0.02383276483316235\n",
      "\n",
      "iter: 14 weights: [0.147517   0.52646126] bias: 0.12383276483316236\n",
      "\n",
      "iter: 15 weights: [0.017517   0.48646126] bias: 0.02383276483316235\n",
      "\n",
      "iter: 17 weights: [0.157517   0.45646126] bias: 0.12383276483316236\n",
      "\n",
      "iter: 18 weights: [0.02751701 0.41646126] bias: 0.02383276483316235\n",
      "\n",
      "iter: 20 weights: [0.16751701 0.38646126] bias: 0.12383276483316236\n",
      "\n",
      "iter: 21 weights: [0.03751702 0.34646125] bias: 0.02383276483316235\n",
      "\n",
      "iter: 23 weights: [0.17751702 0.31646125] bias: 0.12383276483316236\n",
      "\n",
      "iter: 25 weights: [0.04751702 0.27646125] bias: 0.02383276483316235\n",
      "\n",
      "iter: 26 weights: [-0.08248297  0.23646125] bias: -0.07616723516683765\n",
      "\n",
      "iter: 28 weights: [0.05751703 0.20646125] bias: 0.02383276483316235\n",
      "\n",
      "iter: 29 weights: [-0.07248297  0.16646124] bias: -0.07616723516683765\n",
      "\n",
      "iter: 31 weights: [0.06751703 0.13646124] bias: 0.02383276483316235\n",
      "\n",
      "iter: 32 weights: [-0.06248296  0.09646124] bias: -0.07616723516683765\n",
      "\n",
      "iter: 34 weights: [0.07751704 0.06646124] bias: 0.02383276483316235\n",
      "\n",
      "iter: 35 weights: [-0.05248296  0.02646123] bias: -0.07616723516683765\n",
      "\n",
      "iter: 37 weights: [ 0.08751704 -0.00353877] bias: 0.02383276483316235\n",
      "\n",
      "iter: 38 weights: [-0.04248295 -0.04353877] bias: -0.07616723516683765\n",
      "\n",
      "iter: 40 weights: [ 0.09751705 -0.07353877] bias: 0.02383276483316235\n",
      "\n",
      "iter: 41 weights: [-0.03248295 -0.11353877] bias: -0.07616723516683765\n",
      "\n",
      "iter: 43 weights: [ 0.10751705 -0.14353878] bias: 0.02383276483316235\n",
      "\n",
      "iter: 44 weights: [-0.02248294 -0.18353878] bias: -0.07616723516683765\n",
      "\n",
      "iter: 46 weights: [ 0.11751706 -0.21353878] bias: 0.02383276483316235\n",
      "\n",
      "iter: 47 weights: [-0.01248294 -0.25353878] bias: -0.07616723516683765\n",
      "\n",
      "iter: 49 weights: [ 0.12751706 -0.28353878] bias: 0.02383276483316235\n",
      "\n",
      "weights: [-0.00248293 -0.32353879], bias: -0.07616723516683765\n"
     ]
    }
   ],
   "source": [
    "model_ = Perceptron(epochs, lr)\n",
    "weights_, bias_ = model_.Train(sequences_.T, labels_, False)\n",
    "print('weights: {}, bias: {}'.format(weights_, bias_))"
   ]
  },
  {
   "cell_type": "code",
   "execution_count": 106,
   "id": "ff028263",
   "metadata": {},
   "outputs": [
    {
     "data": {
      "text/plain": [
       "0.42"
      ]
     },
     "execution_count": 106,
     "metadata": {},
     "output_type": "execute_result"
    }
   ],
   "source": [
    "model_.MAE()"
   ]
  },
  {
   "cell_type": "code",
   "execution_count": 107,
   "id": "2d45b9cb",
   "metadata": {},
   "outputs": [
    {
     "data": {
      "text/plain": [
       "[0, 0, 0]"
      ]
     },
     "execution_count": 107,
     "metadata": {},
     "output_type": "execute_result"
    }
   ],
   "source": [
    "pred_ = [model.Predict(line, weights_, bias_, False) for line in randSeqs]\n",
    "pred_"
   ]
  },
  {
   "cell_type": "code",
   "execution_count": 108,
   "id": "1bcdc581",
   "metadata": {
    "scrolled": true
   },
   "outputs": [
    {
     "data": {
      "image/png": "[encoded data removed]",
      "text/plain": [
       "<Figure size 432x288 with 1 Axes>"
      ]
     },
     "metadata": {
      "needs_background": "light"
     },
     "output_type": "display_data"
    }
   ],
   "source": [
    "PlotFirst(df_)\n",
    "area = np.linspace(-5, 5, 10)\n",
    "line = DividingLine(area, weights_[0], weights_[1], bias_)\n",
    "plt.plot(area, line, color='black')\n",
    "\n",
    "for x, y, color in zip(randSeqs1[:, 0], randSeqs1[:, 1], pred_):\n",
    "    plt.plot(x, y, \"^\", c=colors[color])\n"
   ]
  },
  {
   "cell_type": "markdown",
   "id": "3cc6421a",
   "metadata": {},
   "source": [
    "### Вторая обучающая выборка"
   ]
  },
  {
   "cell_type": "code",
   "execution_count": 109,
   "id": "4a64b295",
   "metadata": {},
   "outputs": [],
   "source": [
    "sequences2 = np.array([[-2.6, -4.1, 4.4, 0.7, -2.7, 3.2, -4.6, 1.4], \n",
    "                       [-1, -3.7, 4.5, -4.5, -1.5, -4.9, -3.4, 2.3]], dtype=np.float32)\n",
    "labels2 = np.array([[0, 0, 0, 1, 0, 1, 0, 0], [0, 0, 1, 0, 0, 1, 0, 1]])\n",
    "\n",
    "ds2 = np.insert(sequences2, 2, labels2, axis=0)\n",
    "df2 = pd.DataFrame(ds2.T, columns=['x1', 'x2', 'y1', 'y2'])"
   ]
  },
  {
   "cell_type": "code",
   "execution_count": 110,
   "id": "cae4aa72",
   "metadata": {},
   "outputs": [
    {
     "data": {
      "text/html": [
       "<div>\n",
       "<style scoped>\n",
       "    .dataframe tbody tr th:only-of-type {\n",
       "        vertical-align: middle;\n",
       "    }\n",
       "\n",
       "    .dataframe tbody tr th {\n",
       "        vertical-align: top;\n",
       "    }\n",
       "\n",
       "    .dataframe thead th {\n",
       "        text-align: right;\n",
       "    }\n",
       "</style>\n",
       "<table border=\"1\" class=\"dataframe\">\n",
       "  <thead>\n",
       "    <tr style=\"text-align: right;\">\n",
       "      <th></th>\n",
       "      <th>x1</th>\n",
       "      <th>x2</th>\n",
       "      <th>y1</th>\n",
       "      <th>y2</th>\n",
       "    </tr>\n",
       "  </thead>\n",
       "  <tbody>\n",
       "    <tr>\n",
       "      <th>0</th>\n",
       "      <td>-2.6</td>\n",
       "      <td>-1.0</td>\n",
       "      <td>0.0</td>\n",
       "      <td>0.0</td>\n",
       "    </tr>\n",
       "    <tr>\n",
       "      <th>1</th>\n",
       "      <td>-4.1</td>\n",
       "      <td>-3.7</td>\n",
       "      <td>0.0</td>\n",
       "      <td>0.0</td>\n",
       "    </tr>\n",
       "    <tr>\n",
       "      <th>2</th>\n",
       "      <td>4.4</td>\n",
       "      <td>4.5</td>\n",
       "      <td>0.0</td>\n",
       "      <td>1.0</td>\n",
       "    </tr>\n",
       "    <tr>\n",
       "      <th>3</th>\n",
       "      <td>0.7</td>\n",
       "      <td>-4.5</td>\n",
       "      <td>1.0</td>\n",
       "      <td>0.0</td>\n",
       "    </tr>\n",
       "    <tr>\n",
       "      <th>4</th>\n",
       "      <td>-2.7</td>\n",
       "      <td>-1.5</td>\n",
       "      <td>0.0</td>\n",
       "      <td>0.0</td>\n",
       "    </tr>\n",
       "    <tr>\n",
       "      <th>5</th>\n",
       "      <td>3.2</td>\n",
       "      <td>-4.9</td>\n",
       "      <td>1.0</td>\n",
       "      <td>1.0</td>\n",
       "    </tr>\n",
       "    <tr>\n",
       "      <th>6</th>\n",
       "      <td>-4.6</td>\n",
       "      <td>-3.4</td>\n",
       "      <td>0.0</td>\n",
       "      <td>0.0</td>\n",
       "    </tr>\n",
       "    <tr>\n",
       "      <th>7</th>\n",
       "      <td>1.4</td>\n",
       "      <td>2.3</td>\n",
       "      <td>0.0</td>\n",
       "      <td>1.0</td>\n",
       "    </tr>\n",
       "  </tbody>\n",
       "</table>\n",
       "</div>"
      ],
      "text/plain": [
       "    x1   x2   y1   y2\n",
       "0 -2.6 -1.0  0.0  0.0\n",
       "1 -4.1 -3.7  0.0  0.0\n",
       "2  4.4  4.5  0.0  1.0\n",
       "3  0.7 -4.5  1.0  0.0\n",
       "4 -2.7 -1.5  0.0  0.0\n",
       "5  3.2 -4.9  1.0  1.0\n",
       "6 -4.6 -3.4  0.0  0.0\n",
       "7  1.4  2.3  0.0  1.0"
      ]
     },
     "execution_count": 110,
     "metadata": {},
     "output_type": "execute_result"
    }
   ],
   "source": [
    "df2"
   ]
  },
  {
   "cell_type": "code",
   "execution_count": 111,
   "id": "9440112a",
   "metadata": {},
   "outputs": [
    {
     "data": {
      "image/png": "[encoded data removed]",
      "text/plain": [
       "<Figure size 432x288 with 1 Axes>"
      ]
     },
     "metadata": {
      "needs_background": "light"
     },
     "output_type": "display_data"
    }
   ],
   "source": [
    "PlotSecond(df2)"
   ]
  },
  {
   "cell_type": "markdown",
   "id": "5a00e383",
   "metadata": {},
   "source": [
    "Обучаем сеть на 50 эпохах на второй обучающей выборке. Посмотрим вычисленные веса и смещения во время обучения."
   ]
  },
  {
   "cell_type": "code",
   "execution_count": 112,
   "id": "f80342f0",
   "metadata": {},
   "outputs": [
    {
     "data": {
      "text/plain": [
       "(8, 2)"
      ]
     },
     "execution_count": 112,
     "metadata": {},
     "output_type": "execute_result"
    }
   ],
   "source": [
    "sequences2.T.shape"
   ]
  },
  {
   "cell_type": "code",
   "execution_count": 113,
   "id": "48435237",
   "metadata": {},
   "outputs": [
    {
     "name": "stdout",
     "output_type": "stream",
     "text": [
      "iter: 2 weights: [[0.39673661 0.35413804]\n",
      " [0.486638   0.99082093]] bias: [0.80828168 0.64945888]\n",
      "\n",
      "iter: 3 weights: [[-0.0432634   0.35413804]\n",
      " [ 0.036638    0.99082093]] bias: [0.70828168 0.64945888]\n",
      "\n",
      "iter: 6 weights: [[0.21673659 0.35413804]\n",
      " [0.136638   0.99082093]] bias: [0.60828168 0.64945888]\n",
      "\n",
      "iter: 7 weights: [[-0.22326342  0.35413804]\n",
      " [-0.313362    0.99082093]] bias: [0.50828168 0.64945888]\n",
      "\n",
      "iter: 8 weights: [[ 0.03673657  0.35413804]\n",
      " [-0.213362    0.99082093]] bias: [0.40828168 0.64945888]\n",
      "\n",
      "iter: 11 weights: [[ 0.29673656  0.35413804]\n",
      " [-0.113362    0.99082093]] bias: [0.30828168 0.64945888]\n",
      "\n",
      "iter: 12 weights: [[-0.14326345  0.35413804]\n",
      " [-0.563362    0.99082093]] bias: [0.20828168 0.64945888]\n",
      "\n",
      "iter: 13 weights: [[ 0.11673654  0.35413804]\n",
      " [-0.463362    0.99082093]] bias: [0.10828168 0.64945888]\n",
      "\n",
      "iter: 16 weights: [[ 0.37673653  0.35413804]\n",
      " [-0.363362    0.99082093]] bias: [0.00828168 0.64945888]\n",
      "\n",
      "iter: 17 weights: [[-0.06326348  0.35413804]\n",
      " [-0.813362    0.99082093]] bias: [-0.09171832  0.64945888]\n",
      "\n",
      "iter: 18 weights: [[ 0.19673651  0.35413804]\n",
      " [-0.713362    0.99082093]] bias: [-0.19171832  0.64945888]\n",
      "\n",
      "iter: 20 weights: [[ 0.4567365   0.35413804]\n",
      " [-0.613362    0.99082093]] bias: [-0.29171832  0.64945888]\n",
      "\n",
      "iter: 23 weights: [[ 0.86673649  0.35413804]\n",
      " [-0.243362    0.99082093]] bias: [-0.39171832  0.64945888]\n",
      "\n",
      "iter: 25 weights: [[ 0.42673648  0.35413804]\n",
      " [-0.693362    0.99082093]] bias: [-0.49171832  0.64945888]\n",
      "\n",
      "iter: 28 weights: [[ 0.83673647  0.35413804]\n",
      " [-0.32336199  0.99082093]] bias: [-0.59171832  0.64945888]\n",
      "\n",
      "iter: 30 weights: [[ 0.39673646  0.35413804]\n",
      " [-0.77336199  0.99082093]] bias: [-0.69171832  0.64945888]\n",
      "\n",
      "iter: 33 weights: [[ 0.80673645  0.35413804]\n",
      " [-0.40336199  0.99082093]] bias: [-0.79171832  0.64945888]\n",
      "\n",
      "iter: 35 weights: [[ 0.36673644  0.35413804]\n",
      " [-0.85336199  0.99082093]] bias: [-0.89171832  0.64945888]\n",
      "\n",
      "iter: 38 weights: [[ 0.77673643  0.35413804]\n",
      " [-0.48336198  0.99082093]] bias: [-0.99171832  0.64945888]\n",
      "\n",
      "iter: 40 weights: [[ 0.33673642  0.35413804]\n",
      " [-0.93336198  0.99082093]] bias: [-1.09171832  0.64945888]\n",
      "\n",
      "iter: 46 weights: [[ 0.74673641  0.35413804]\n",
      " [-0.56336198  0.99082093]] bias: [-1.19171832  0.64945888]\n",
      "\n"
     ]
    }
   ],
   "source": [
    "model2 = Perceptron(epochs, lr)\n",
    "weights2, bias2 = model2.Train(sequences2.T, labels2.T, True)"
   ]
  },
  {
   "cell_type": "markdown",
   "id": "98b6e082",
   "metadata": {},
   "source": [
    "\n",
    "\n",
    "Полученные итоговые веса, смещения.\n"
   ]
  },
  {
   "cell_type": "code",
   "execution_count": 114,
   "id": "f304d048",
   "metadata": {},
   "outputs": [
    {
     "name": "stdout",
     "output_type": "stream",
     "text": [
      "weights: [[ 0.74673641  0.67413805]\n",
      " [-0.56336198  0.50082092]], bias: [-1.19171832  0.74945888]\n"
     ]
    }
   ],
   "source": [
    "print('weights: {}, bias: {}'.format(weights2, bias2))"
   ]
  },
  {
   "cell_type": "markdown",
   "id": "b5fb11f7",
   "metadata": {},
   "source": [
    "\n",
    "\n",
    "Ошибка обучения сети\n"
   ]
  },
  {
   "cell_type": "code",
   "execution_count": 115,
   "id": "e5e4b3d4",
   "metadata": {},
   "outputs": [
    {
     "data": {
      "text/plain": [
       "array([0.4 , 0.02])"
      ]
     },
     "execution_count": 115,
     "metadata": {},
     "output_type": "execute_result"
    }
   ],
   "source": [
    "model2.MAE()"
   ]
  },
  {
   "cell_type": "markdown",
   "id": "cfdf3289",
   "metadata": {},
   "source": [
    "Сделаю случайную выборку."
   ]
  },
  {
   "cell_type": "code",
   "execution_count": 116,
   "id": "c7a27400",
   "metadata": {},
   "outputs": [
    {
     "data": {
      "text/plain": [
       "array([[ 3.73429403,  4.68540663],\n",
       "       [ 3.6919454 ,  0.30855692],\n",
       "       [-2.67271672, -4.88601196],\n",
       "       [-0.69531182, -0.9764864 ],\n",
       "       [ 0.22674671, -0.21608204]])"
      ]
     },
     "execution_count": 116,
     "metadata": {},
     "output_type": "execute_result"
    }
   ],
   "source": [
    "np.random.seed(8)\n",
    "randSeqs2 = (np.random.uniform(-5, 5, (5, 2)))\n",
    "randSeqs2"
   ]
  },
  {
   "cell_type": "code",
   "execution_count": 117,
   "id": "064f72a3",
   "metadata": {},
   "outputs": [
    {
     "data": {
      "text/plain": [
       "array([1, 0, 1, 1, 1])"
      ]
     },
     "execution_count": 117,
     "metadata": {},
     "output_type": "execute_result"
    }
   ],
   "source": [
    "np.random.seed(8)\n",
    "randLabels2 = np.random.randint(0, 2, 5)\n",
    "randLabels2"
   ]
  },
  {
   "cell_type": "markdown",
   "id": "0dbdf689",
   "metadata": {},
   "source": [
    "\n",
    "\n",
    "Предскажем классы на случайно заданной выборке.\n"
   ]
  },
  {
   "cell_type": "code",
   "execution_count": 118,
   "id": "b59ef0c3",
   "metadata": {},
   "outputs": [
    {
     "data": {
      "text/plain": [
       "[array([0., 1.]),\n",
       " array([1., 1.]),\n",
       " array([0., 0.]),\n",
       " array([0., 0.]),\n",
       " array([0., 1.])]"
      ]
     },
     "execution_count": 118,
     "metadata": {},
     "output_type": "execute_result"
    }
   ],
   "source": [
    "pred2 = [model.Predict(line, weights2, bias2, True) for line in randSeqs2]\n",
    "pred2\n"
   ]
  },
  {
   "cell_type": "markdown",
   "id": "4098760f",
   "metadata": {},
   "source": [
    "\n",
    "\n",
    "Отобразим вторую обучающую выборку, случайно заданную выборку (треугольнички) и дискриминантную линию.\n"
   ]
  },
  {
   "cell_type": "code",
   "execution_count": 119,
   "id": "7605b2c1",
   "metadata": {},
   "outputs": [
    {
     "data": {
      "image/png": "[encoded data removed]",
      "text/plain": [
       "<Figure size 432x288 with 1 Axes>"
      ]
     },
     "metadata": {
      "needs_background": "light"
     },
     "output_type": "display_data"
    }
   ],
   "source": [
    "PlotSecond(df2)\n",
    "area = np.linspace(-5, 5, 10)\n",
    "line1 = DividingLine(area, weights2[0][0], weights2[1][0], bias2[0])\n",
    "line2 = DividingLine(area, weights2[0][1], weights2[1][1], bias2[1])\n",
    "plt.plot(area, line1, color='black')\n",
    "plt.plot(area, line2, color='black')\n",
    "\n",
    "\n",
    "for x, y, color in zip(randSeqs2[:, 0], randSeqs2[:, 1], pred):\n",
    "    plt.plot(x, y, \"^\", c=colors[color])\n"
   ]
  },
  {
   "cell_type": "markdown",
   "id": "23079012",
   "metadata": {},
   "source": [
    "# Выводы"
   ]
  },
  {
   "cell_type": "markdown",
   "id": "c01c9b87",
   "metadata": {},
   "source": [
    "В этой лабораторной работе реализовал однослойный перцептрон Розенблатта. \n",
    "\n",
    "Обучила модель на двух заданных выборках и затем предсказывал классы объектов. \n",
    "\n",
    "Убедился, что однослойный перцептрон Розенблатта не подходит для решения линейно неразделимых задач."
   ]
  }
 ],
 "metadata": {
  "kernelspec": {
   "display_name": "Python 3 (ipykernel)",
   "language": "python",
   "name": "python3"
  },
  "language_info": {
   "codemirror_mode": {
    "name": "ipython",
    "version": 3
   },
   "file_extension": ".py",
   "mimetype": "text/x-python",
   "name": "python",
   "nbconvert_exporter": "python",
   "pygments_lexer": "ipython3",
   "version": "3.11.0"
  }
 },
 "nbformat": 4,
 "nbformat_minor": 5
}
